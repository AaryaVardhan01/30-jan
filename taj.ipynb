{
 "cells": [
  {
   "cell_type": "code",
   "execution_count": 4,
   "id": "fc531e97-16f2-42f7-acfb-45a929112ddf",
   "metadata": {},
   "outputs": [
    {
     "name": "stdin",
     "output_type": "stream",
     "text": [
      "Enter the percentage 44\n"
     ]
    },
    {
     "name": "stdout",
     "output_type": "stream",
     "text": [
      "Grade=D\n"
     ]
    }
   ],
   "source": [
    "marks=int(input(\"Enter the percentage\"))\n",
    "if marks>90:\n",
    "    print(\"Grade=A\")\n",
    "elif marks>80 and marks<=90:\n",
    "    print(\"Grade=B\")\n",
    "elif marks>=60 and marks<=80:\n",
    "    print(\"Grade=C\")\n",
    "else:\n",
    "    print(\"Grade=D\")"
   ]
  },
  {
   "cell_type": "code",
   "execution_count": 7,
   "id": "0c7e3c43-2547-4918-a565-f833e75d3dad",
   "metadata": {},
   "outputs": [
    {
     "name": "stdin",
     "output_type": "stream",
     "text": [
      "Enter the cost of the bike: 51122\n"
     ]
    },
    {
     "name": "stdout",
     "output_type": "stream",
     "text": [
      "Tax=10%\n"
     ]
    }
   ],
   "source": [
    "cost=int(input(\"Enter the cost of the bike:\"))\n",
    "if cost>100000:\n",
    "    print(\"Tax=15%\")\n",
    "elif cost>50000 and cost<=100000:\n",
    "    print(\"Tax=10%\")\n",
    "else:\n",
    "    print(\"Tax=5%\")"
   ]
  },
  {
   "cell_type": "code",
   "execution_count": 12,
   "id": "e22338bc-1937-41ce-88c0-ca5f76cc0a12",
   "metadata": {},
   "outputs": [
    {
     "name": "stdout",
     "output_type": "stream",
     "text": [
      "['Delhi', 'Agra', 'Jaipur']\n"
     ]
    },
    {
     "name": "stdin",
     "output_type": "stream",
     "text": [
      "Select any city  agra\n"
     ]
    },
    {
     "name": "stdout",
     "output_type": "stream",
     "text": [
      "The Monument is:Taj Mahal\n"
     ]
    }
   ],
   "source": [
    "l=[\"Delhi\",\"Agra\",\"Jaipur\"]\n",
    "print(l)\n",
    "city=input(\"Select any city \")\n",
    "if city==\"Delhi\" or city==\"delhi\":\n",
    "    print(\"The Monument is:Red Fort\")\n",
    "elif city==\"Agra\" or city==\"agra\":\n",
    "    print(\"The Monument is:Taj Mahal\")\n",
    "elif city==\"Jaipur\" or city==\"jaipur\":\n",
    "    print(\"The Monument is:Jal Mahal\")\n",
    "else:\n",
    "    print(\"Select the correct city from the list\")\n",
    "    "
   ]
  },
  {
   "cell_type": "code",
   "execution_count": 5,
   "id": "ee67d1f8-b511-40db-b1cf-2588baef7f2b",
   "metadata": {},
   "outputs": [
    {
     "name": "stdin",
     "output_type": "stream",
     "text": [
      "Enter the no. 7777\n"
     ]
    },
    {
     "name": "stdout",
     "output_type": "stream",
     "text": [
      "No. should be less than or equal to 10\n"
     ]
    }
   ],
   "source": [
    "a=int(input(\"Enter the no.\"))\n",
    "if a<=10:\n",
    "    b=int(a/3)\n",
    "    print(b,\"times the no will divided by 3\")\n",
    "else:\n",
    "    print(\"No. should be less than or equal to 10\")"
   ]
  },
  {
   "cell_type": "code",
   "execution_count": 6,
   "id": "5b9e2d2c-10f4-4f5f-a5b7-a17a821f0502",
   "metadata": {},
   "outputs": [],
   "source": [
    "#With the while loop we can execute a set of statements as long as a condition is true.\n",
    "#The while loop requires relevant variables to be ready, in this example we need to define an indexing variable, i, which we set to 1."
   ]
  },
  {
   "cell_type": "code",
   "execution_count": 7,
   "id": "8f9d6ba4-8d5e-40da-bde0-7a7603fff413",
   "metadata": {},
   "outputs": [
    {
     "name": "stdin",
     "output_type": "stream",
     "text": [
      "enter no.of rows \n",
      " 4\n"
     ]
    },
    {
     "name": "stdout",
     "output_type": "stream",
     "text": [
      "*\n",
      "**\n",
      "***\n",
      "****\n"
     ]
    }
   ],
   "source": [
    "r = int(input(\"enter no.of rows \\n\")) \n",
    "for i in range(r): \n",
    "\tfor j in range(i+1): \n",
    "\t\tprint(\"*\",end=\"\")  \n",
    "\tprint()  \n"
   ]
  },
  {
   "cell_type": "code",
   "execution_count": 19,
   "id": "901e0a43-9403-459a-b9f0-06193910b4aa",
   "metadata": {},
   "outputs": [
    {
     "name": "stdout",
     "output_type": "stream",
     "text": [
      "The reversed no is:10 9 8 7 6 5 4 3 2 1 "
     ]
    }
   ],
   "source": [
    "no=10\n",
    "print(\"The reversed no is:\",end=\"\")\n",
    "for i in reversed(range(no+1)):\n",
    "    if(i==0):\n",
    "        pass\n",
    "    else:\n",
    "        print(i,end=\" \")"
   ]
  },
  {
   "cell_type": "code",
   "execution_count": 20,
   "id": "0ac12cbf-9356-4b36-a204-9917bbfd6ce5",
   "metadata": {},
   "outputs": [
    {
     "name": "stdout",
     "output_type": "stream",
     "text": [
      "The reversed no is:10 9 8 7 6 5 4 3 2 1 "
     ]
    }
   ],
   "source": [
    "no=10\n",
    "print(\"The reversed no is:\",end=\"\")\n",
    "for i in reversed(range(no+1)):\n",
    "    if(i==0):\n",
    "        pass\n",
    "    else:\n",
    "        print(i,end=\" \")"
   ]
  },
  {
   "cell_type": "code",
   "execution_count": null,
   "id": "72be3e2c-42bd-4f11-8252-61a098a2667d",
   "metadata": {},
   "outputs": [],
   "source": []
  }
 ],
 "metadata": {
  "kernelspec": {
   "display_name": "Python 3 (ipykernel)",
   "language": "python",
   "name": "python3"
  },
  "language_info": {
   "codemirror_mode": {
    "name": "ipython",
    "version": 3
   },
   "file_extension": ".py",
   "mimetype": "text/x-python",
   "name": "python",
   "nbconvert_exporter": "python",
   "pygments_lexer": "ipython3",
   "version": "3.10.8"
  }
 },
 "nbformat": 4,
 "nbformat_minor": 5
}

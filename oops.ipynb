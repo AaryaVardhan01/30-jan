{
 "cells": [
  {
   "cell_type": "code",
   "execution_count": 1,
   "id": "6585ead5-8723-46b8-b713-f3b0bceff832",
   "metadata": {},
   "outputs": [
    {
     "data": {
      "text/plain": [
       "'Object − Objects have states and behaviors. Example: A dog has states - color, name, breed as well as behaviors – wagging the tail, barking, eating. An object is an instance of a class.\\nClass − A class can be defined as a template/blueprint that describes the behavior/state that the object of its type support.'"
      ]
     },
     "execution_count": 1,
     "metadata": {},
     "output_type": "execute_result"
    }
   ],
   "source": [
    "'''Object − Objects have states and behaviors. Example: A dog has states - color, name, breed as well as behaviors – wagging the tail, barking, eating. An object is an instance of a class.\n",
    "Class − A class can be defined as a template/blueprint that describes the behavior/state that the object of its type support.'''"
   ]
  },
  {
   "cell_type": "code",
   "execution_count": 3,
   "id": "c7439d9d-e4fc-475f-bada-7515df6aee19",
   "metadata": {},
   "outputs": [],
   "source": [
    "#Inheritance,encapsulation,polymorphism,abstraction"
   ]
  },
  {
   "cell_type": "code",
   "execution_count": null,
   "id": "6e37c81e-d38d-4cbb-948e-503875fdf092",
   "metadata": {},
   "outputs": [],
   "source": []
  }
 ],
 "metadata": {
  "kernelspec": {
   "display_name": "Python 3 (ipykernel)",
   "language": "python",
   "name": "python3"
  },
  "language_info": {
   "codemirror_mode": {
    "name": "ipython",
    "version": 3
   },
   "file_extension": ".py",
   "mimetype": "text/x-python",
   "name": "python",
   "nbconvert_exporter": "python",
   "pygments_lexer": "ipython3",
   "version": "3.10.8"
  }
 },
 "nbformat": 4,
 "nbformat_minor": 5
}
